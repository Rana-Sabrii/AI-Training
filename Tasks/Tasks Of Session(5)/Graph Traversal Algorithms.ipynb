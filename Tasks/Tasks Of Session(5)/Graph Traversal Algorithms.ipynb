{
 "cells": [
  {
   "cell_type": "markdown",
   "id": "2b7bebbd",
   "metadata": {},
   "source": [
    "# Graph Traversal Algorithms"
   ]
  },
  {
   "cell_type": "markdown",
   "id": "87bacf5a",
   "metadata": {},
   "source": [
    "# Depth First Traversal"
   ]
  },
  {
   "cell_type": "code",
   "execution_count": 4,
   "id": "0df65740",
   "metadata": {},
   "outputs": [
    {
     "name": "stdout",
     "output_type": "stream",
     "text": [
      "a\n",
      "b\n",
      "d\n",
      "e\n",
      "c\n"
     ]
    },
    {
     "data": {
      "text/plain": [
       "{'a', 'b', 'c', 'd', 'e'}"
      ]
     },
     "execution_count": 4,
     "metadata": {},
     "output_type": "execute_result"
    }
   ],
   "source": [
    "class graph:\n",
    "   def __init__(self,gdict=None):\n",
    "      if gdict is None:\n",
    "         gdict = {}\n",
    "      self.gdict = gdict\n",
    "# Check for the visisted and unvisited nodes\n",
    "def dfs(graph, start, visited = None):\n",
    "   if visited is None:\n",
    "      visited = set()\n",
    "   visited.add(start)\n",
    "   print(start)\n",
    "   for next in graph[start] - visited:\n",
    "      dfs(graph, next, visited)\n",
    "   return visited\n",
    "\n",
    "gdict = { \n",
    "   \"a\" : set([\"b\",\"c\"]),\n",
    "   \"b\" : set([\"a\", \"d\"]),\n",
    "   \"c\" : set([\"a\", \"d\"]),\n",
    "   \"d\" : set([\"e\"]),\n",
    "   \"e\" : set([\"a\"])\n",
    "}\n",
    "dfs(gdict, 'a')"
   ]
  },
  {
   "cell_type": "markdown",
   "id": "b1fd2ce3",
   "metadata": {},
   "source": [
    "# Breadth First Traversal"
   ]
  },
  {
   "cell_type": "code",
   "execution_count": 1,
   "id": "cc931c02",
   "metadata": {},
   "outputs": [
    {
     "name": "stdout",
     "output_type": "stream",
     "text": [
      "a\n",
      "b\n",
      "c\n",
      "d\n",
      "e\n"
     ]
    }
   ],
   "source": [
    "import collections\n",
    "class graph:\n",
    "   def __init__(self,gdict=None):\n",
    "      if gdict is None:\n",
    "         gdict = {}\n",
    "      self.gdict = gdict\n",
    "def bfs(graph, startnode):\n",
    "# Track the visited and unvisited nodes using queue\n",
    "   seen, queue = set([startnode]), collections.deque([startnode])\n",
    "   while queue:\n",
    "      vertex = queue.popleft()\n",
    "      marked(vertex)\n",
    "      for node in graph[vertex]:\n",
    "         if node not in seen:\n",
    "            seen.add(node)\n",
    "            queue.append(node)\n",
    "\n",
    "def marked(n):\n",
    "   print(n)\n",
    "\n",
    "# The graph dictionary\n",
    "gdict = { \n",
    "   \"a\" : set([\"b\",\"c\"]),\n",
    "   \"b\" : set([\"a\", \"d\"]),\n",
    "   \"c\" : set([\"a\", \"d\"]),\n",
    "   \"d\" : set([\"e\"]),\n",
    "   \"e\" : set([\"a\"])\n",
    "}\n",
    "bfs(gdict, \"a\")"
   ]
  },
  {
   "cell_type": "code",
   "execution_count": null,
   "id": "73a4d094",
   "metadata": {},
   "outputs": [],
   "source": []
  }
 ],
 "metadata": {
  "kernelspec": {
   "display_name": "Python 3 (ipykernel)",
   "language": "python",
   "name": "python3"
  },
  "language_info": {
   "codemirror_mode": {
    "name": "ipython",
    "version": 3
   },
   "file_extension": ".py",
   "mimetype": "text/x-python",
   "name": "python",
   "nbconvert_exporter": "python",
   "pygments_lexer": "ipython3",
   "version": "3.9.13"
  }
 },
 "nbformat": 4,
 "nbformat_minor": 5
}
