{
 "cells": [
  {
   "cell_type": "markdown",
   "id": "af771d12",
   "metadata": {},
   "source": [
    "# implementation of graph in python \n"
   ]
  },
  {
   "cell_type": "markdown",
   "id": "6be33133",
   "metadata": {},
   "source": [
    "#  1) implement a graph using an adjacency matrix"
   ]
  },
  {
   "cell_type": "code",
   "execution_count": 3,
   "id": "c2c28aac",
   "metadata": {},
   "outputs": [
    {
     "name": "stdout",
     "output_type": "stream",
     "text": [
      "The set of vertices of the graph is:\n",
      "{0, 1, 2, 3, 4, 5}\n",
      "The set of edges of the graph is:\n",
      "{(0, 1), (2, 4), (1, 2), (3, 4), (0, 3), (4, 5), (2, 5), (1, 3)}\n",
      "The adjacency matrix representing the graph is:\n",
      "[[0 1 0 1 0 0]\n",
      " [1 0 1 1 0 0]\n",
      " [0 1 0 0 1 1]\n",
      " [1 1 0 0 1 0]\n",
      " [0 0 1 1 0 1]\n",
      " [0 0 1 0 1 0]]\n"
     ]
    }
   ],
   "source": [
    "import numpy as np\n",
    " \n",
    "# set of vertices\n",
    "vertices = {0, 1, 2, 3, 4, 5}\n",
    "# set of edges\n",
    "edges = {(0, 1), (1, 2), (0, 3), (1, 3), (3, 4), (2, 5), (4, 5), (2, 4)}\n",
    "\n",
    "# create a NXN integer numpy array with all values initialised to zero N=V\n",
    "adjacencyMatrix = np.zeros((6, 6)).astype(int)\n",
    "# Represent edges in the adjacency matrix\n",
    "for edge in edges:\n",
    "    v1 = edge[0]\n",
    "    v2 = edge[1]\n",
    "    adjacencyMatrix[v1][v2] = 1\n",
    "    adjacencyMatrix[v2][v1] = 1 # if v1 is connected to v2, v2 is also connected to v1\n",
    "print(\"The set of vertices of the graph is:\")\n",
    "print(vertices)\n",
    "print(\"The set of edges of the graph is:\")\n",
    "print(edges)\n",
    "print(\"The adjacency matrix representing the graph is:\")\n",
    "print(adjacencyMatrix)"
   ]
  },
  {
   "cell_type": "markdown",
   "id": "842e67af",
   "metadata": {},
   "source": [
    "# 2) implement a graph using an adjacency list"
   ]
  },
  {
   "cell_type": "code",
   "execution_count": 4,
   "id": "8b95a09f",
   "metadata": {},
   "outputs": [
    {
     "name": "stdout",
     "output_type": "stream",
     "text": [
      "The set of vertices of the graph is:\n",
      "{0, 1, 2, 3, 4, 5}\n",
      "The set of edges of the graph is:\n",
      "{(0, 1), (2, 4), (1, 2), (3, 4), (0, 3), (4, 5), (2, 5), (1, 3)}\n",
      "The adjacency List representing the graph is:\n",
      "{0: [1, 3], 1: [0, 2, 3], 2: [4, 1, 5], 3: [4, 0, 1], 4: [2, 3, 5], 5: [4, 2]}\n"
     ]
    }
   ],
   "source": [
    "# set of vertices\n",
    "vertices = {0, 1, 2, 3, 4, 5}\n",
    "# set of edges\n",
    "edges = {(0, 1), (1, 2), (0, 3), (1, 3), (3, 4), (2, 5), (4, 5), (2, 4)}\n",
    "\n",
    "# create a dictionary with vertices of graph as keys and empty lists as values\n",
    "\n",
    "adjacencyList={}\n",
    "for vertex in vertices:\n",
    "    adjacencyList[vertex]=[]\n",
    "    \n",
    "# Represent edges in the adjacency List\n",
    "for edge in edges:\n",
    "    v1 = edge[0]\n",
    "    v2 = edge[1]\n",
    "    adjacencyList[v1].append(v2)\n",
    "    adjacencyList[v2].append(v1) # if v1 is connected to v2, v2 is also connected to v1\n",
    "print(\"The set of vertices of the graph is:\")\n",
    "print(vertices)\n",
    "print(\"The set of edges of the graph is:\")\n",
    "print(edges)\n",
    "print(\"The adjacency List representing the graph is:\")\n",
    "print(adjacencyList)"
   ]
  },
  {
   "cell_type": "code",
   "execution_count": null,
   "id": "8a9065e5",
   "metadata": {},
   "outputs": [],
   "source": []
  }
 ],
 "metadata": {
  "kernelspec": {
   "display_name": "Python 3 (ipykernel)",
   "language": "python",
   "name": "python3"
  },
  "language_info": {
   "codemirror_mode": {
    "name": "ipython",
    "version": 3
   },
   "file_extension": ".py",
   "mimetype": "text/x-python",
   "name": "python",
   "nbconvert_exporter": "python",
   "pygments_lexer": "ipython3",
   "version": "3.9.13"
  }
 },
 "nbformat": 4,
 "nbformat_minor": 5
}
