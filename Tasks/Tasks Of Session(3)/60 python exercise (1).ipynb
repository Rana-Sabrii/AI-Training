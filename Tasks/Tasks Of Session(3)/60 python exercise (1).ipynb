{
 "cells": [
  {
   "cell_type": "markdown",
   "id": "759d04ba",
   "metadata": {},
   "source": [
    "**1-Write a Python program to calculate the length of a string using 2 ways"
   ]
  },
  {
   "cell_type": "code",
   "execution_count": 5,
   "id": "e434c950",
   "metadata": {},
   "outputs": [
    {
     "name": "stdout",
     "output_type": "stream",
     "text": [
      "Length of Your String : 4\n"
     ]
    }
   ],
   "source": [
    "# using len() Function\n",
    "def Getlength(string):\n",
    "    \n",
    "    \n",
    "    return len(string)\n",
    "\n",
    "Example= \"Rana\"\n",
    "Lenght= Getlength(Example)\n",
    "print(\"Length of Your String :\" , Lenght )"
   ]
  },
  {
   "cell_type": "code",
   "execution_count": 11,
   "id": "7a2dfa32",
   "metadata": {},
   "outputs": [
    {
     "name": "stdout",
     "output_type": "stream",
     "text": [
      "Length of Your String : 4\n"
     ]
    }
   ],
   "source": [
    "#Looping and counting\n",
    "def Getlength(string):\n",
    "    count=0\n",
    "    for char in string:\n",
    "        count+=1\n",
    "    return count\n",
    "\n",
    "Example= \"Rana\"\n",
    "Lenght= Getlength(Example)\n",
    "print(\"Length of Your String :\" , Lenght )"
   ]
  },
  {
   "cell_type": "markdown",
   "id": "d7cc9da7",
   "metadata": {},
   "source": [
    "**2-Write a Python program to get a string made of the first 2 and last 2 characters of a given string. If the string length is less than 2, return the empty string instead (\"##Sample String : 'w3resource'\n",
    "Expected Result : 'w3ce'\n",
    "##Sample String : 'w3'\n",
    "Expected Result : 'w3w3'\n",
    "##Sample String : ' w'\n",
    "Expected Result : Empty String)"
   ]
  },
  {
   "cell_type": "code",
   "execution_count": 13,
   "id": "dafa9dd8",
   "metadata": {},
   "outputs": [
    {
     "name": "stdout",
     "output_type": "stream",
     "text": [
      "Your  New String : W3ol\n"
     ]
    }
   ],
   "source": [
    "#concatinate char\n",
    "def GetStringFromString(string):\n",
    "    if len(string)<2:\n",
    "        return \"\"\n",
    "    else :\n",
    "        NewString=   string[:2] + string[-2:]  \n",
    "        return NewString\n",
    "\n",
    "Example=\"W3School\"\n",
    "Result =GetStringFromString(Example)\n",
    "print(\"Your  New String :\" , Result )"
   ]
  },
  {
   "cell_type": "markdown",
   "id": "1534f956",
   "metadata": {},
   "source": [
    "**3-Write a Python program to add 'ing' at the end of a given string (length should be at least 3). If the given string already ends with 'ing', add 'ly' instead. If the string length of the given string is less than 3, leave it unchanged. (Sample String : 'abc'\n",
    "Expected Result : 'abcing')"
   ]
  },
  {
   "cell_type": "code",
   "execution_count": 16,
   "id": "7ff8cec4",
   "metadata": {},
   "outputs": [
    {
     "name": "stdout",
     "output_type": "stream",
     "text": [
      "Your  New String : W3Schooling\n"
     ]
    }
   ],
   "source": [
    "#If statement\n",
    "def GenerateString(string):\n",
    "    if len(string) <3:\n",
    "        return string\n",
    "    elif string[-3:] != \"ing\":\n",
    "        Newstring = string+ \"ing\"\n",
    "        return Newstring\n",
    "    elif string[-3:] == \"ing\":\n",
    "        Newstring = string +\"ly\"\n",
    "        return Newstring\n",
    "        \n",
    "Example=\"W3School\"\n",
    "Result =GenerateString(Example)\n",
    "print(\"Your  New String :\" , Result )\n",
    "\n"
   ]
  },
  {
   "cell_type": "markdown",
   "id": "1c0a6627",
   "metadata": {},
   "source": [
    "**4-Write a Python function that takes a list of words and return the longest word and the length of the longest one\n",
    "(Longest word: Exercises\n",
    "Length of the longest word: 9)"
   ]
  },
  {
   "cell_type": "code",
   "execution_count": 22,
   "id": "397341d9",
   "metadata": {},
   "outputs": [
    {
     "name": "stdout",
     "output_type": "stream",
     "text": [
      "Longest Word is : Congratulations , Length of Word : 15\n"
     ]
    }
   ],
   "source": [
    "#loop and count\n",
    "def GetLongest(words):\n",
    "    Longest_Length=0\n",
    "    Longest_word=\"\"\n",
    "    for word in words:\n",
    "        \n",
    "        if len(word) > len(Longest_word):\n",
    "            Longest_word = word\n",
    "            Longest_Length=len(word)\n",
    "            \n",
    "    return  f\"Longest Word is : {Longest_word} , Length of Word : {Longest_Length}\" \n",
    "\n",
    "Word_List = [\"Hello\" , \"School\" , \"Congratulations\"]\n",
    "Result =GetLongest(Word_List)\n",
    "print(Result)"
   ]
  },
  {
   "cell_type": "markdown",
   "id": "53a03a6a",
   "metadata": {},
   "source": [
    "**5-Write a Python program to change a given string to a newly string where the first and last chars have been exchanged using 2 ways (Sample String:abca  Expected Result:ebce)"
   ]
  },
  {
   "cell_type": "code",
   "execution_count": 48,
   "id": "fd327d2a",
   "metadata": {},
   "outputs": [
    {
     "name": "stdout",
     "output_type": "stream",
     "text": [
      "mbcv\n"
     ]
    }
   ],
   "source": [
    "#exchane using random method\n",
    "import random\n",
    "def choose_random_char():\n",
    "    return random.choice('abcdefghijklmnopqrstuvwxyz')\n",
    "\n",
    "def exchange_chars(string):\n",
    "    if len(string) < 2:\n",
    "        return string\n",
    "    else:\n",
    "        string =list(string)\n",
    "        string[-1] =choose_random_char()\n",
    "        string[0]  =choose_random_char()\n",
    "        return  ''.join (string)\n",
    "\n",
    "\n",
    "sample_string = \"abca\"\n",
    "result = exchange_chars(sample_string)\n",
    "print(result)"
   ]
  },
  {
   "cell_type": "code",
   "execution_count": 51,
   "id": "285788b4",
   "metadata": {},
   "outputs": [
    {
     "name": "stdout",
     "output_type": "stream",
     "text": [
      "fbca\n"
     ]
    }
   ],
   "source": [
    "#exchane by swapping first and last char\n",
    "def exchange_Char(string):\n",
    "    if len(string) < 2:\n",
    "        return string\n",
    "    else:\n",
    "        string = list(string)\n",
    "        string[-1], string[0] = string[0], string[-1] \n",
    "        \n",
    "        return ''.join(string) \n",
    "        \n",
    "sample_string = \"abcf\"\n",
    "result = exchange_Char(sample_string)\n",
    "print(result)\n",
    "\n"
   ]
  },
  {
   "cell_type": "markdown",
   "id": "25f89808",
   "metadata": {},
   "source": [
    "**6-Write a Python program to remove characters that have odd index values in a given string (Sample String:abca Expected Result:ac)"
   ]
  },
  {
   "cell_type": "code",
   "execution_count": 56,
   "id": "05959bd7",
   "metadata": {},
   "outputs": [
    {
     "name": "stdout",
     "output_type": "stream",
     "text": [
      "bf\n"
     ]
    }
   ],
   "source": [
    "#looping using enumerate to return both value and index\n",
    "def Remove_index(string):\n",
    "    new_string = ''\n",
    "    \n",
    "    for i ,char in enumerate(string):\n",
    "        if i % 2 != 0:\n",
    "            new_string += char\n",
    "            \n",
    "    return new_string\n",
    " \n",
    "sample_string = \"abcf\"\n",
    "result = Remove_index(sample_string)\n",
    "print(result)            "
   ]
  },
  {
   "cell_type": "markdown",
   "id": "eb16e898",
   "metadata": {},
   "source": [
    "**7-Write a Python program to count the occurrences of each word in a given sentence (Sample String:amr and ahmed are frindes but amr is the tallest Expected Result:2)"
   ]
  },
  {
   "cell_type": "code",
   "execution_count": 160,
   "id": "01ce6cf5",
   "metadata": {},
   "outputs": [
    {
     "name": "stdout",
     "output_type": "stream",
     "text": [
      "amr: 2\n",
      "and: 1\n",
      "ahmed: 1\n",
      "are: 1\n",
      "frindes: 1\n",
      "but: 1\n",
      "is: 1\n",
      "the: 1\n",
      "tallest: 1\n"
     ]
    }
   ],
   "source": [
    "# i will use dictionary to save words and count\n",
    "\n",
    "sentence =  \"amr and ahmed are frindes but amr is the tallest\"\n",
    "CountOfWords ={}\n",
    "words = sentence.split()\n",
    "\n",
    "\n",
    "for word in words:\n",
    "    if word in CountOfWords:\n",
    "        CountOfWords[word] += 1\n",
    "    else:\n",
    "        CountOfWords[word] = 1\n",
    "\n",
    "\n",
    "for word, count in CountOfWords.items():\n",
    "    print(f\"{word}: {count}\")\n",
    "    \n"
   ]
  },
  {
   "cell_type": "markdown",
   "id": "4e8125f1",
   "metadata": {},
   "source": [
    "**8-Write a Python script that takes input from the user and displays that input back in upper and lower cases"
   ]
  },
  {
   "cell_type": "code",
   "execution_count": 64,
   "id": "66c8f778",
   "metadata": {},
   "outputs": [
    {
     "name": "stdout",
     "output_type": "stream",
     "text": [
      "ABCDefgh\n"
     ]
    }
   ],
   "source": [
    "#used : Upper() , Lower() ,SwapCase() to handle both cases\n",
    "\n",
    "def Convert(string):\n",
    "    if string.islower():\n",
    "        new_string = string.upper()\n",
    "    elif string.isupper():\n",
    "        new_string = string.lower()\n",
    "    else:\n",
    "        new_string = string.swapcase()\n",
    "    return new_string\n",
    " \n",
    "sample_string = \"abcdEFGH\"\n",
    "result = Convert(sample_string)\n",
    "print(result) "
   ]
  },
  {
   "cell_type": "markdown",
   "id": "fcd68aa1",
   "metadata": {},
   "source": [
    "**9-Write a Python function to reverse a string if its length is a multiple of 4"
   ]
  },
  {
   "cell_type": "code",
   "execution_count": 66,
   "id": "0671a931",
   "metadata": {},
   "outputs": [
    {
     "name": "stdout",
     "output_type": "stream",
     "text": [
      "anaR\n"
     ]
    }
   ],
   "source": [
    "#using Python slicing operation start:end:step: the slicing syntax , step: -1, which means we're slicing the string in reverse order, one character at a time.\n",
    "def Reverse_String(string):\n",
    "    if len(string) %4 == 0:\n",
    "        reversed_string = string[::-1]\n",
    "        return reversed_string\n",
    "    else:\n",
    "        return string\n",
    "    \n",
    "sample_string = \"Rana\"\n",
    "result = Reverse_String(sample_string)\n",
    "print(result) "
   ]
  },
  {
   "cell_type": "markdown",
   "id": "b577c68d",
   "metadata": {},
   "source": [
    "**10- Write a Python program to remove a newline in Python"
   ]
  },
  {
   "cell_type": "code",
   "execution_count": 150,
   "id": "e0c6525a",
   "metadata": {},
   "outputs": [
    {
     "name": "stdout",
     "output_type": "stream",
     "text": [
      "Hello, World!\n",
      "Hello,World!\n"
     ]
    }
   ],
   "source": [
    "#1 strip\n",
    "\n",
    "my_string = \"   Hello, World!   \"\n",
    "stripped_string = my_string.strip()\n",
    "print(stripped_string)\n",
    "\n",
    "\n",
    "#replace\n",
    "\n",
    "string = \"Hello,\\nWorld!\"\n",
    "new_string = string.replace(\"\\n\", \"\")\n",
    "print(new_string)"
   ]
  },
  {
   "cell_type": "markdown",
   "id": "80db5ae0",
   "metadata": {},
   "source": [
    "**11-Write a Python program to check whether a string starts with specified characters"
   ]
  },
  {
   "cell_type": "code",
   "execution_count": 76,
   "id": "0cc4e03e",
   "metadata": {},
   "outputs": [
    {
     "name": "stdout",
     "output_type": "stream",
     "text": [
      "Enter a prefix to search for: R\n",
      "Enter a string: Rana\n",
      "The string Rana does start with the specified prefix R\n",
      "The string Rana does start with the specified prefix R\n",
      "The string Rana does start with the specified prefix R\n"
     ]
    }
   ],
   "source": [
    "Prefix = input(\"Enter a prefix to search for: \")\n",
    "Word = input(\"Enter a string: \")\n",
    "\n",
    "#searched and found multiple ways \n",
    "#startwith() method\n",
    "if Word.startswith(Prefix):\n",
    "    print(f\"The string {Word} does start with the specified prefix {Prefix}\")\n",
    "else:\n",
    "    print(f\"The string {Word} does not start with the specified prefix {Prefix}\")    \n",
    "    \n",
    "    \n",
    "#slicing to extract the first len(prefix) characters of string, and then compare them to prefix    \n",
    "if Word[:len(Prefix)] == Prefix:\n",
    "    print(f\"The string {Word} does start with the specified prefix {Prefix}\")\n",
    "else:\n",
    "    print(f\"The string {Word} does not start with the specified prefix {Prefix}\")     \n",
    "\n",
    "\n",
    "    \n",
    " #re.match()  from the re module   \n",
    "import re    \n",
    "if re.match(Prefix, Word):\n",
    "    print(f\"The string {Word} does start with the specified prefix {Prefix}\")\n",
    "else:\n",
    "    print(f\"The string {Word} does not start with the specified prefix {Prefix}\")    "
   ]
  },
  {
   "cell_type": "markdown",
   "id": "593a68db",
   "metadata": {},
   "source": [
    "**12- Write a Python program to add prefix text to all of the lines in a string"
   ]
  },
  {
   "cell_type": "code",
   "execution_count": 79,
   "id": "d2e46ada",
   "metadata": {},
   "outputs": [
    {
     "name": "stdout",
     "output_type": "stream",
     "text": [
      "Prefix: I\n",
      "Prefix: Love\n",
      "Prefix: My\n",
      "Prefix: Mama\n"
     ]
    }
   ],
   "source": [
    "#split and join\n",
    "string = \"I\\nLove\\nMy\\nMama\"\n",
    "prefix = \"Prefix: \"\n",
    "\n",
    "lines = string.split(\"\\n\")\n",
    "prefixed_lines = [prefix + line for line in lines]     \n",
    "prefixed_string = \"\\n\".join(prefixed_lines)\n",
    "\n",
    "print(prefixed_string)"
   ]
  },
  {
   "cell_type": "markdown",
   "id": "86fa1543",
   "metadata": {},
   "source": [
    "**13-Write a Python program to print the following numbers up to 2 decimal places"
   ]
  },
  {
   "cell_type": "code",
   "execution_count": 82,
   "id": "cd4a9d89",
   "metadata": {},
   "outputs": [
    {
     "name": "stdout",
     "output_type": "stream",
     "text": [
      "1.23\n",
      "6.79\n",
      "10.11\n"
     ]
    }
   ],
   "source": [
    "#change format  .2f\n",
    "numbers = [1.2345, 6.789, 10.111213]\n",
    "\n",
    "for number in numbers:\n",
    "    print(f\"{number:.2f}\")"
   ]
  },
  {
   "cell_type": "markdown",
   "id": "452c0ab0",
   "metadata": {},
   "source": [
    "**14-Write a Python program to print the following numbers up to 2 decimal places with a sign"
   ]
  },
  {
   "cell_type": "code",
   "execution_count": 85,
   "id": "73e82479",
   "metadata": {},
   "outputs": [
    {
     "name": "stdout",
     "output_type": "stream",
     "text": [
      "- -1.23\n",
      "+ 6.79\n",
      "- -10.11\n"
     ]
    }
   ],
   "source": [
    "#check and change format\n",
    "numbers = [-1.2345, 6.789, -10.111213]\n",
    "for num in numbers:\n",
    "    if num >=0:\n",
    "        print(f\"+ {num:.2f}\")\n",
    "    else:\n",
    "        print(f\"- {num:.2f}\")    "
   ]
  },
  {
   "cell_type": "markdown",
   "id": "32b1811a",
   "metadata": {},
   "source": [
    "**15-Write a Python program to display a number with a comma separator"
   ]
  },
  {
   "cell_type": "code",
   "execution_count": 101,
   "id": "f30fc0b6",
   "metadata": {},
   "outputs": [
    {
     "name": "stdout",
     "output_type": "stream",
     "text": [
      "Enter The number with space please: 1 2 5 9 44 11 22 33 \n",
      "1,2,5,9,44,11,22,33\n",
      "Enter The number please: 125898784688658456\n",
      "[1, 2, 5, 8, 9, 8, 7, 8, 4, 6, 8, 8, 6, 5, 8, 4, 5, 6]\n"
     ]
    }
   ],
   "source": [
    "#as string\n",
    "numbers = input(\"Enter The number with space please: \")\n",
    "numbers = numbers.split()\n",
    "result = ','.join(numbers)\n",
    "print(result)\n",
    "\n",
    "\n",
    "#as integer\n",
    "numbers = int(input(\"Enter The number please: \"))\n",
    "\n",
    "digits = []\n",
    "while numbers > 0:\n",
    "    digit = numbers % 10\n",
    "    digits.insert(0, digit)\n",
    "    numbers //= 10\n",
    "\n",
    "print(digits)"
   ]
  },
  {
   "cell_type": "markdown",
   "id": "0477f487",
   "metadata": {},
   "source": [
    "**16-Write a Python program to reverse a string using 2 ways"
   ]
  },
  {
   "cell_type": "code",
   "execution_count": 104,
   "id": "aa8beec8",
   "metadata": {},
   "outputs": [
    {
     "name": "stdout",
     "output_type": "stream",
     "text": [
      "anaR\n",
      "anaR\n"
     ]
    }
   ],
   "source": [
    "#slicing operation\n",
    "string = \"Rana\"\n",
    "reversed_string = string[::-1]\n",
    "print(reversed_string)\n",
    "\n",
    "#loop through indecies reversly\n",
    "string = \"Rana\"\n",
    "reversed_string = \"\"\n",
    "for i in range(len(string)-1, -1, -1):\n",
    "    reversed_string += string[i]\n",
    "print(reversed_string)"
   ]
  },
  {
   "cell_type": "markdown",
   "id": "5afc3166",
   "metadata": {},
   "source": [
    " **17-Write a Python program to count repeated characters in a string (hint:use dictionary)"
   ]
  },
  {
   "cell_type": "code",
   "execution_count": 161,
   "id": "515a469c",
   "metadata": {},
   "outputs": [
    {
     "name": "stdout",
     "output_type": "stream",
     "text": [
      "C: 1\n",
      "o: 2\n",
      "n: 2\n",
      "g: 1\n",
      "r: 1\n",
      "a: 2\n",
      "t: 2\n",
      "u: 1\n",
      "l: 1\n",
      "i: 1\n",
      "s: 1\n",
      "**********************************************************\n",
      "Counter({'o': 2, 'n': 2, 'a': 2, 't': 2, 'C': 1, 'g': 1, 'r': 1, 'u': 1, 'l': 1, 'i': 1, 's': 1})\n"
     ]
    }
   ],
   "source": [
    "#using dictionary\n",
    "string =  \"Congratulations\"\n",
    "\n",
    "CountOfChar ={}\n",
    "\n",
    "\n",
    "for char in string:\n",
    "    if char in CountOfChar:\n",
    "        CountOfChar[char] += 1\n",
    "    else:\n",
    "        CountOfChar[char] = 1\n",
    "\n",
    "\n",
    "for char, count in CountOfChar.items():\n",
    "    print(f\"{char}: {count}\")\n",
    "\n",
    "print(\"**********************************************************\")    \n",
    "#counter class\n",
    "from collections import Counter\n",
    "string =\"Congratulations\"\n",
    "for char in string:\n",
    "    occurrences = Counter(string)\n",
    "print(occurrences)    "
   ]
  },
  {
   "cell_type": "markdown",
   "id": "ae14e4e5",
   "metadata": {},
   "source": [
    "**18-Write a Python program to find the first non-repeating character in a given string"
   ]
  },
  {
   "cell_type": "code",
   "execution_count": 177,
   "id": "d73778e5",
   "metadata": {},
   "outputs": [
    {
     "name": "stdout",
     "output_type": "stream",
     "text": [
      "C: is the First non-repeating character\n"
     ]
    }
   ],
   "source": [
    "string =  \"Congratulations\"\n",
    "\n",
    "CountOfChar ={}\n",
    "\n",
    "\n",
    "for char in string:\n",
    "    if char in CountOfChar:\n",
    "        CountOfChar[char] += 1\n",
    "    else:\n",
    "        CountOfChar[char] = 1\n",
    "\n",
    "\n",
    "for key , value in CountOfChar.items():\n",
    "    if value == 1:\n",
    "        print(f\"{key}: is the First non-repeating character\")\n",
    "        break"
   ]
  },
  {
   "cell_type": "markdown",
   "id": "3adf5669",
   "metadata": {},
   "source": [
    "**19-Write a Python program to remove spaces from a given string"
   ]
  },
  {
   "cell_type": "code",
   "execution_count": 114,
   "id": "b4f22602",
   "metadata": {},
   "outputs": [
    {
     "name": "stdout",
     "output_type": "stream",
     "text": [
      "Enter Your string: Rana Sabry\n",
      "RanaSabry\n"
     ]
    }
   ],
   "source": [
    "string =input(\"Enter Your string: \")\n",
    "\n",
    "new_string = string.replace(\" \", \"\")\n",
    "\n",
    "print(new_string)"
   ]
  },
  {
   "cell_type": "markdown",
   "id": "734de60c",
   "metadata": {},
   "source": [
    "**20-Write a Python program to count the number of non-empty substrings of a given string"
   ]
  },
  {
   "cell_type": "code",
   "execution_count": 125,
   "id": "ef3f2274",
   "metadata": {},
   "outputs": [
    {
     "name": "stdout",
     "output_type": "stream",
     "text": [
      "The number of non-empty substrings is 21.\n"
     ]
    }
   ],
   "source": [
    "#loop through values and indecies\n",
    "string = \"ABCDEF\"\n",
    "count=0\n",
    "\n",
    "for i in range(len(string)):\n",
    "    for j in range(i+1 , len(string)+1):\n",
    "        substring = string[i:j]\n",
    "        if len(substring) > 0:\n",
    "            count += 1\n",
    "print(f\"The number of non-empty substrings is {count}.\")"
   ]
  },
  {
   "cell_type": "markdown",
   "id": "509998e2",
   "metadata": {},
   "source": [
    "**21-write a Python program to swap first and last element of any list."
   ]
  },
  {
   "cell_type": "code",
   "execution_count": 126,
   "id": "68692d7f",
   "metadata": {},
   "outputs": [
    {
     "name": "stdout",
     "output_type": "stream",
     "text": [
      "Original list: ['Rana', 'Sabry', 'Ismaeil']\n",
      "Swapped list: ['Ismaeil', 'Sabry', 'Rana']\n"
     ]
    }
   ],
   "source": [
    "Original_list = [\"Rana\" , \"Sabry\" , \"Ismaeil\"]\n",
    "\n",
    "print(f\"Original list: {Original_list}\")\n",
    "\n",
    "\n",
    "Original_list[0], Original_list[-1] = Original_list[-1], Original_list[0]\n",
    "\n",
    "print(f\"Swapped list: {Original_list}\")"
   ]
  },
  {
   "cell_type": "markdown",
   "id": "959e0837",
   "metadata": {},
   "source": [
    "**22-Given a list in Python and provided the positions of the elements, write a program to swap the two elements in the list. (Input : List = [23, 65, 19, 90], pos1 = 1, pos2 = 3\n",
    "Output : [19, 65, 23, 90])"
   ]
  },
  {
   "cell_type": "code",
   "execution_count": 130,
   "id": "225d8c6d",
   "metadata": {},
   "outputs": [
    {
     "name": "stdout",
     "output_type": "stream",
     "text": [
      "Original list: [23, 65, 19, 90]\n",
      "Swapped list: [19, 65, 23, 90]\n"
     ]
    }
   ],
   "source": [
    "Original_list = [23, 65, 19, 90]\n",
    "print(f\"Original list: {Original_list}\")\n",
    "pos1=0\n",
    "pos2=2\n",
    "Original_list[pos1], Original_list[pos2] = Original_list[pos2], Original_list[pos1]\n",
    "print(f\"Swapped list: {Original_list}\")"
   ]
  },
  {
   "cell_type": "markdown",
   "id": "66fc6682",
   "metadata": {},
   "source": [
    "**23- search for the all ways to know the length of the list"
   ]
  },
  {
   "cell_type": "code",
   "execution_count": 133,
   "id": "a668ac1e",
   "metadata": {},
   "outputs": [
    {
     "name": "stdout",
     "output_type": "stream",
     "text": [
      "5\n",
      "5\n",
      "5\n",
      "5\n",
      "5\n",
      "5\n"
     ]
    }
   ],
   "source": [
    "#len()\n",
    "Rlist = [1, 2, 3, 4, 5]\n",
    "length = len(Rlist)\n",
    "print(length)\n",
    "\n",
    "#looping\n",
    "Rlist = [1, 2, 3, 4, 5]\n",
    "length = 0\n",
    "for item in Rlist:\n",
    "    length += 1\n",
    "print(length)\n",
    "\n",
    "\n",
    "#count\n",
    "Rlist = [1, 2, 3, 4, 5]\n",
    "length = Rlist.count(None) + len(Rlist)\n",
    "print(length)\n",
    "\n",
    "\n",
    "#while loop\n",
    "Rlist = [1, 2, 3, 4, 5]\n",
    "length = 0\n",
    "iterator = iter(Rlist)\n",
    "while True:\n",
    "    try:\n",
    "        next(iterator)\n",
    "        length += 1\n",
    "    except StopIteration:\n",
    "        break\n",
    "print(length)\n",
    "\n",
    "\n",
    "#recursion\n",
    "\n",
    "def list_length(Rlist):\n",
    "    if not Rlist:\n",
    "        return 0\n",
    "    else:\n",
    "        return 1 + list_length(Rlist[1:])\n",
    "\n",
    "Rlist = [1, 2, 3, 4, 5]\n",
    "length = list_length(Rlist)\n",
    "print(length)\n",
    "\n",
    "\n",
    "#Using a lambda function\n",
    "from functools import reduce\n",
    "\n",
    "Rlist = [1, 2, 3, 4, 5]\n",
    "length = reduce(lambda x, _: x+1, Rlist, 0)\n",
    "print(length)"
   ]
  },
  {
   "cell_type": "code",
   "execution_count": null,
   "id": "63ff8b43",
   "metadata": {},
   "outputs": [],
   "source": [
    "**24-write a Python code to find the Maximum number of list of numbers."
   ]
  },
  {
   "cell_type": "code",
   "execution_count": 135,
   "id": "15f342de",
   "metadata": {},
   "outputs": [
    {
     "name": "stdout",
     "output_type": "stream",
     "text": [
      "993\n"
     ]
    }
   ],
   "source": [
    "Rlist = [51, 28, 993, 0, 60]\n",
    "max_num = max(Rlist)\n",
    "print(max_num)"
   ]
  },
  {
   "cell_type": "code",
   "execution_count": null,
   "id": "1a89b9d3",
   "metadata": {},
   "outputs": [],
   "source": [
    "**25-write a Python code to find the Minimum number of list of numbers."
   ]
  },
  {
   "cell_type": "code",
   "execution_count": 136,
   "id": "21f8cbd6",
   "metadata": {},
   "outputs": [
    {
     "name": "stdout",
     "output_type": "stream",
     "text": [
      "0\n"
     ]
    }
   ],
   "source": [
    "Rlist = [51, 28, 993, 0, 60]\n",
    "max_num = min(Rlist)\n",
    "print(max_num)"
   ]
  },
  {
   "cell_type": "markdown",
   "id": "96822d96",
   "metadata": {},
   "source": [
    "**26-search for if an elem is existing in list"
   ]
  },
  {
   "cell_type": "code",
   "execution_count": 137,
   "id": "51ca5c9a",
   "metadata": {},
   "outputs": [
    {
     "name": "stdout",
     "output_type": "stream",
     "text": [
      "Enter Your strings: 1 5 8 6 3 5 7 \n",
      "Enter Value To Search: 5\n",
      "5 is in the list\n"
     ]
    }
   ],
   "source": [
    "List = input(\"Enter Your strings: \")\n",
    "ValueToSearch=input(\"Enter Value To Search: \")\n",
    "\n",
    "if ValueToSearch in List:\n",
    "    print(f\"{ValueToSearch} is in the list\")\n",
    "else:\n",
    "    print(f\"{ValueToSearch} is not in the list\")"
   ]
  },
  {
   "cell_type": "markdown",
   "id": "d9557da7",
   "metadata": {},
   "source": [
    "**27- clear python list using different ways"
   ]
  },
  {
   "cell_type": "code",
   "execution_count": 138,
   "id": "b69858a3",
   "metadata": {},
   "outputs": [
    {
     "name": "stdout",
     "output_type": "stream",
     "text": [
      "[]\n",
      "[]\n",
      "[]\n"
     ]
    }
   ],
   "source": [
    "#Reassign\n",
    "Rlist = [1, 2, 3, 4, 5]\n",
    "Rlist = []\n",
    "print(Rlist)\n",
    "\n",
    "\n",
    "#clear() method\n",
    "Rlist = [1, 2, 3, 4, 5]\n",
    "Rlist.clear()\n",
    "print(Rlist)\n",
    "\n",
    "\n",
    "#del keyword\n",
    "Rlist = [1, 2, 3, 4, 5]\n",
    "del Rlist[:]\n",
    "print(Rlist)"
   ]
  },
  {
   "cell_type": "markdown",
   "id": "52160e88",
   "metadata": {},
   "source": [
    "**28-remove duplicated elements from a list"
   ]
  },
  {
   "cell_type": "code",
   "execution_count": 145,
   "id": "5e362228",
   "metadata": {},
   "outputs": [
    {
     "name": "stdout",
     "output_type": "stream",
     "text": [
      "Unduplicated elements are : [6, 7, 9, 10, 67]\n",
      "Unduplicated elements are : [1, 2, 67, 6, 7, 8, 9, 10]\n"
     ]
    }
   ],
   "source": [
    "# removes elements of count>1 which will remove element with all of its copies\n",
    "Rlist = [1 , 2 , 8, 6 , 7 , 1, 2 , 9, 10 ,67 ,8 ]\n",
    "\n",
    "CountOfelements ={}\n",
    "Unduplicated_elements=[]\n",
    "for element in Rlist:\n",
    "    if element in CountOfelements:\n",
    "        CountOfelements[element] += 1\n",
    "    else:\n",
    "        CountOfelements[element] = 1\n",
    "\n",
    "\n",
    "for char in Rlist:\n",
    "    if CountOfelements[char] == 1:\n",
    "        Unduplicated_elements.append(char)\n",
    "        \n",
    "print(f\"Unduplicated elements are : {Unduplicated_elements}\")\n",
    "\n",
    "#remove only the copies by converting to set \n",
    "Rlist = [1 , 2 , 8, 6 , 7 , 1, 2 , 9, 10 ,67 ,8 ]\n",
    "Rlist = list(set(Rlist))\n",
    "print(f\"Unduplicated elements are : {Rlist}\")"
   ]
  },
  {
   "cell_type": "markdown",
   "id": "282337f7",
   "metadata": {},
   "source": [
    "**29-Given list values and keys list, convert these values to key value pairs in form of list of dictionaries. (Input : test_list = [“Gfg”, 3, “is”, 8], key_list = [“name”, “id”]\n",
    "Output : [{‘name’: ‘Gfg’, ‘id’: 3}, {‘name’: ‘is’, ‘id’: 8}])"
   ]
  },
  {
   "cell_type": "code",
   "execution_count": 148,
   "id": "4d4e2d28",
   "metadata": {},
   "outputs": [
    {
     "name": "stdout",
     "output_type": "stream",
     "text": [
      "[{'name': 'Gfg', 'id': 3}, {'name': 'is', 'id': 8}]\n",
      "[{'name': 'Gfg', 'id': 3}, {'name': 'is', 'id': 8}]\n"
     ]
    }
   ],
   "source": [
    "test_list = [\"Gfg\", 3, \"is\", 8]\n",
    "key_list = [\"name\", \"id\"]\n",
    "Final_List = []\n",
    "\n",
    "for i in range(0, len(test_list), len(key_list)):\n",
    "    Final_dict = {}\n",
    "    for j in range(len(key_list)):\n",
    "        Final_dict[key_list[j]] = test_list[i + j]\n",
    "    Final_List.append(Final_dict)\n",
    "\n",
    "print(Final_List)\n",
    "\n",
    "##########\n",
    "test_list = [\"Gfg\", 3, \"is\", 8]\n",
    "key_list = [\"name\", \"id\"]\n",
    "Final_List = [{key_list[i]: test_list[i + j] for i in range(len(key_list))} for j in range(0, len(test_list), len(key_list))]\n",
    "\n",
    "print(Final_List)"
   ]
  },
  {
   "cell_type": "markdown",
   "id": "c26b6e9f",
   "metadata": {},
   "source": [
    "**30-write a python program to count unique values inside a list using different ways"
   ]
  },
  {
   "cell_type": "code",
   "execution_count": 174,
   "id": "72132667",
   "metadata": {},
   "outputs": [
    {
     "name": "stdout",
     "output_type": "stream",
     "text": [
      "Unique elements are : [6, 7, 9, 10, 67] , Count = 5\n",
      "Unique elements are : {1, 2, 67, 6, 7, 8, 9, 10} , Count = 8\n",
      "Counter({2: 2, 3: 2, 1: 1, 4: 1, 5: 1})\n"
     ]
    }
   ],
   "source": [
    "#using dictionary to count  , I printed the unique values\n",
    "Rlist = [1 , 2 , 8, 6 , 7 , 1, 2 , 9, 10 ,67 ,8 ]\n",
    "\n",
    "CountOfelements ={}\n",
    "Unique_Values=[]\n",
    "for element in Rlist:\n",
    "    if element in CountOfelements:\n",
    "        CountOfelements[element] += 1\n",
    "    else:\n",
    "        CountOfelements[element] = 1\n",
    "\n",
    "for key , value in CountOfelements.items():\n",
    "    if value==1:\n",
    "        Unique_Values.append(key) \n",
    "print(f\"Unique elements are : {Unique_Values} , Count = {len(Unique_Values)}\")    \n",
    "\n",
    "\n",
    "\n",
    "#convert to set then count\n",
    "Rlist = [1 , 2 , 8, 6 , 7 , 1, 2 , 9, 10 ,67 ,8 ]\n",
    "unique_values = set(Rlist)\n",
    "print(f\"Unique elements are : {unique_values} , Count = {len(unique_values)}\")\n",
    "\n",
    "#counter class\n",
    "from collections import Counter\n",
    "Rlist = [1, 2, 3, 2, 4, 3, 5]\n",
    "unique_values = Counter(Rlist)\n",
    "print(unique_values)"
   ]
  },
  {
   "cell_type": "markdown",
   "id": "fed6677c",
   "metadata": {},
   "source": [
    "**31-write a python program Extract all elements with Frequency greater than K (Input : test_list = [4, 6, 4, 3, 3, 4, 3, 4, 3, 8], K = 3 \n",
    "Output : [4, 3] )"
   ]
  },
  {
   "cell_type": "code",
   "execution_count": 172,
   "id": "d81f3f9d",
   "metadata": {},
   "outputs": [
    {
     "name": "stdout",
     "output_type": "stream",
     "text": [
      "my list is  : [4, 3]\n"
     ]
    }
   ],
   "source": [
    "Rlist =  [4, 6, 4, 3, 3, 4, 3, 4, 3, 8]\n",
    "\n",
    "CountOfelements ={}\n",
    "mylist=[]\n",
    "for element in Rlist:\n",
    "    if element in CountOfelements:\n",
    "        CountOfelements[element] += 1\n",
    "    else:\n",
    "        CountOfelements[element] = 1\n",
    "\n",
    "\n",
    "for key , value in CountOfelements.items():\n",
    "    if value >= 3:\n",
    "        mylist.append(key)\n",
    "        \n",
    "print(f\"my list is  : {mylist}\")"
   ]
  },
  {
   "cell_type": "markdown",
   "id": "caca5224",
   "metadata": {},
   "source": [
    "**32-write a python program to find the Strongest Neighbour (Input: 1 2 2 3 4 5\n",
    "Output: 2 2 3 4 5)"
   ]
  },
  {
   "cell_type": "code",
   "execution_count": 190,
   "id": "39fbd9b2",
   "metadata": {},
   "outputs": [
    {
     "name": "stdout",
     "output_type": "stream",
     "text": [
      "The strongest neighbors in the list are: []\n",
      "The strongest neighbors in the list are: [7, 8, 9]\n"
     ]
    }
   ],
   "source": [
    "#this example does no show results\n",
    "def find_strongest_neighbor(lst):\n",
    "    strongest_neighbors = []\n",
    "    for i in range(1, len(lst)-1):\n",
    "        if lst[i] > lst[i-1] and lst[i] > lst[i+1]:\n",
    "            strongest_neighbors.append(lst[i])\n",
    "    return strongest_neighbors\n",
    "\n",
    "\n",
    "my_list = [1, 2, 2, 3, 4, 5]\n",
    "strongest_neighbors = find_strongest_neighbor(my_list)\n",
    "print(\"The strongest neighbors in the list are:\", strongest_neighbors)\n",
    "\n",
    "\n",
    "#trying another input values\n",
    "input_list = [5, 3, 7, 2, 8, 4, 9, 1]\n",
    "strongest_neighbors = find_strongest_neighbor(input_list)\n",
    "print(\"The strongest neighbors in the list are:\", strongest_neighbors)"
   ]
  },
  {
   "cell_type": "markdown",
   "id": "a9fa8baf",
   "metadata": {},
   "source": [
    "**33-write a Python Program to print all Possible Combinations from the three Digits (Input: [1, 2, 3]\n",
    "Output:\n",
    "1 2 3 ##\n",
    "1 3 2 ##\n",
    "2 1 3 ##\n",
    "2 3 1 ##\n",
    "3 1 2 ##\n",
    "3 2 1)"
   ]
  },
  {
   "cell_type": "code",
   "execution_count": 192,
   "id": "8c520a76",
   "metadata": {},
   "outputs": [
    {
     "name": "stdout",
     "output_type": "stream",
     "text": [
      "1 2 3\n",
      "1 3 2\n",
      "2 1 3\n",
      "2 3 1\n",
      "3 1 2\n",
      "3 2 1\n",
      "******************************************\n",
      "1 2 3\n",
      "1 3 2\n",
      "2 1 3\n",
      "2 3 1\n",
      "3 1 2\n",
      "3 2 1\n"
     ]
    }
   ],
   "source": [
    "#built-in methods\n",
    "import itertools\n",
    "\n",
    "def print_combinations(lst):\n",
    "    for combo in itertools.permutations(lst):\n",
    "        print(' '.join(map(str, combo)))        \n",
    "Rlist = [1, 2, 3]\n",
    "print_combinations(Rlist)\n",
    "\n",
    "print(\"******************************************\")\n",
    "\n",
    "#looping\n",
    "def print_combinations(lst):\n",
    "    for i in range(len(lst)):\n",
    "        for j in range(len(lst)):\n",
    "            if j != i:\n",
    "                for k in range(len(lst)):\n",
    "                    if k != i and k != j:\n",
    "                        print(lst[i], lst[j], lst[k])\n",
    "\n",
    "Rlist = [1, 2, 3]\n",
    "print_combinations(Rlist)"
   ]
  },
  {
   "cell_type": "markdown",
   "id": "5288bb89",
   "metadata": {},
   "source": [
    "**34-write a Python program to find all the Combinations in the list with the given condition (Input: test_list = [1,2,3] \n",
    "Output: \n",
    " [1], [1, 2], [1, 2, 3], [1, 3]\n",
    " [2], [2, 3], [3])"
   ]
  },
  {
   "cell_type": "code",
   "execution_count": 193,
   "id": "59b89646",
   "metadata": {},
   "outputs": [
    {
     "name": "stdout",
     "output_type": "stream",
     "text": [
      "The combinations with the given condition are: [[1], [1, 2], [1, 2, 3], [2], [2, 3], [3]]\n"
     ]
    }
   ],
   "source": [
    "def find_combinations(lst):\n",
    "    combinations = []\n",
    "    for i in range(len(lst)):\n",
    "        for j in range(i+1, len(lst)+1):\n",
    "            if i != j:\n",
    "                combinations.append(lst[i:j])\n",
    "    return combinations\n",
    "\n",
    "\n",
    "my_list = [1, 2, 3]\n",
    "combinations = find_combinations(my_list)\n",
    "print(\"The combinations with the given condition are:\", combinations)"
   ]
  },
  {
   "cell_type": "markdown",
   "id": "39973705",
   "metadata": {},
   "source": [
    "**35-write a Python program to get all unique combinations of two Lists (List_1 = [\"a\",\"b\"]\n",
    "List_2 = [1,2]\n",
    "Unique_combination = [[('a',1),('b',2)],[('a',2),('b',1)]] )"
   ]
  },
  {
   "cell_type": "code",
   "execution_count": 195,
   "id": "8c4ba22b",
   "metadata": {},
   "outputs": [
    {
     "name": "stdout",
     "output_type": "stream",
     "text": [
      "The unique combinations are: [[('a', 1), ('a', 2)], [('b', 1), ('b', 2)]]\n"
     ]
    }
   ],
   "source": [
    "def get_unique_combinations(lst1, lst2):\n",
    "    combinations = []\n",
    "    for item1 in lst1:\n",
    "        for item2 in lst2:\n",
    "            pair = (item1, item2)\n",
    "            reversepair = (item2, item1)\n",
    "            if reversepair not in combinations:\n",
    "                combinations.append(pair)\n",
    "    return [list(pair) for pair in zip(combinations[::2], combinations[1::2])]\n",
    "\n",
    "\n",
    "list1 = [\"a\", \"b\"]\n",
    "list2 = [1, 2]\n",
    "uniquecombinations = get_unique_combinations(list1, list2)\n",
    "print(\"The unique combinations are:\", uniquecombinations)"
   ]
  },
  {
   "cell_type": "markdown",
   "id": "25199af5",
   "metadata": {},
   "source": [
    "**36-Remove all the occurrences of an element from a list in Python (Input : 1 1 2 3 4 5 1 2 1 \n",
    "\n",
    "**Output : 2 3 4 5 2)"
   ]
  },
  {
   "cell_type": "code",
   "execution_count": null,
   "id": "6dc4c2ba",
   "metadata": {},
   "outputs": [],
   "source": [
    "Element = int(input (\"Choose which element you want to remove : (1/2) : \"))\n",
    "\n",
    "Mylist = [1,1,2,3,4,5,1,2,1]\n",
    "my_list=[]\n",
    "for intx  in Mylist:\n",
    "    if intx != Element:\n",
    "        my_list.append(intx)\n",
    "        \n",
    "print(f\"my list is  : {my_list}\")"
   ]
  },
  {
   "cell_type": "markdown",
   "id": "bf1a3c93",
   "metadata": {},
   "source": [
    "**37-write a python program to Replace index elements with elements in Other List (The original list 1 is : [‘Gfg’, ‘is’, ‘best’] The original list 2 is : [0, 1, 2, 1, 0, 0, 0, 2, 1, 1, 2, 0] The lists after index elements replacements is : [‘Gfg’, ‘is’, ‘best’, ‘is’, ‘Gfg’, ‘Gfg’, ‘Gfg’, ‘best’, ‘is’, ‘is’, ‘best’, ‘Gfg’])"
   ]
  },
  {
   "cell_type": "code",
   "execution_count": 1,
   "id": "fdd66a71",
   "metadata": {},
   "outputs": [
    {
     "name": "stdout",
     "output_type": "stream",
     "text": [
      "['Gfg', 'is', 'best', 'is', 'Gfg', 'Gfg', 'Gfg', 'best', 'is', 'is', 'best', 'Gfg']\n"
     ]
    }
   ],
   "source": [
    "list1 = ['Gfg', 'is', 'best']\n",
    "list2 = [0, 1, 2, 1, 0, 0, 0, 2, 1, 1, 2, 0]\n",
    "new_list = []\n",
    "for index in list2:\n",
    "    element = list1[index]\n",
    "    new_list.append(element)\n",
    "print(new_list)"
   ]
  },
  {
   "cell_type": "markdown",
   "id": "af0f56e8",
   "metadata": {},
   "source": [
    "**38- write python program to Retain records with N occurrences of K(Input : test_list = [(4, 5, 5, 4), (5, 4, 3)], K = 5, N = 2 \n",
    "Output : [(4, 5, 5, 4)]\n",
    "Input : test_list = [(4, 5, 5, 4), (5, 4, 3)], K = 5, N = 3 \n",
    "Output : [] )"
   ]
  },
  {
   "cell_type": "code",
   "execution_count": 4,
   "id": "67b06671",
   "metadata": {},
   "outputs": [
    {
     "name": "stdout",
     "output_type": "stream",
     "text": [
      "[(4, 5, 5, 4)]\n",
      "[]\n"
     ]
    }
   ],
   "source": [
    "def retain_records(test_list, K, N):\n",
    "    result = []\n",
    "    for tpl in test_list:\n",
    "        if tpl.count(K) == N:\n",
    "            result.append(tpl)\n",
    "    return result\n",
    "\n",
    "\n",
    "test_list = [(4, 5, 5, 4), (5, 4, 3)]\n",
    "K = 5\n",
    "N = 2\n",
    "output = retain_records(test_list, K, N)\n",
    "print(output)\n",
    "\n",
    "test_list = [(4, 5, 5, 4), (5, 4, 3)]\n",
    "K = 5\n",
    "N = 3\n",
    "output = retain_records(test_list, K, N)\n",
    "print(output)"
   ]
  },
  {
   "cell_type": "markdown",
   "id": "de76f183",
   "metadata": {},
   "source": [
    "**39-write a Python Program to Sort the list according to the column using lambda\n",
    "array = [[1, 3, 3], [2, 1, 2], [3, 2, 1]]\n",
    "Output :\n",
    "Sorted array specific to column 0, [[1, 3, 3], [2, 1, 2], [3, 2, 1]]\n",
    "Sorted array specific to column 1, [[2, 1, 2], [3, 2, 1], [1, 3, 3]]\n",
    "Sorted array specific to column 2, [[3, 2, 1], [2, 1, 2], [1, 3, 3]]"
   ]
  },
  {
   "cell_type": "code",
   "execution_count": null,
   "id": "dc883308",
   "metadata": {},
   "outputs": [],
   "source": [
    "array = [[1, 3, 3], [2, 1, 2], [3, 2, 1]]\n",
    "\n",
    "# Sort according to column 0\n",
    "sorted_array = sorted(array, key=lambda x: x[0])\n",
    "print(\"Sorted array specific to column 0,\", sorted_array)\n",
    "\n",
    "# Sort according to column 1\n",
    "sorted_array = sorted(array, key=lambda x: x[1])\n",
    "print(\"Sorted array specific to column 1,\", sorted_array)\n",
    "\n",
    "# Sort according to column 2\n",
    "sorted_array = sorted(array, key=lambda x: x[2])\n",
    "print(\"Sorted array specific to column 2,\", sorted_array)"
   ]
  },
  {
   "cell_type": "code",
   "execution_count": 6,
   "id": "d2e7b31f",
   "metadata": {},
   "outputs": [
    {
     "ename": "SyntaxError",
     "evalue": "invalid syntax (2344024243.py, line 1)",
     "output_type": "error",
     "traceback": [
      "\u001b[1;36m  File \u001b[1;32m\"C:\\Users\\ranos\\AppData\\Local\\Temp\\ipykernel_932\\2344024243.py\"\u001b[1;36m, line \u001b[1;32m1\u001b[0m\n\u001b[1;33m    **40- write a program to Sort Python Dictionaries by Key or Value\u001b[0m\n\u001b[1;37m    ^\u001b[0m\n\u001b[1;31mSyntaxError\u001b[0m\u001b[1;31m:\u001b[0m invalid syntax\n"
     ]
    }
   ],
   "source": [
    "**40- write a program to Sort Python Dictionaries by Key or Value\n",
    "Input:\n",
    "{'ravi': 10, 'rajnish': 9, 'sanjeev': 15, 'yash': 2, 'suraj': 32}\n",
    "\n",
    "Output: \n",
    "{'rajnish': 9, 'ravi': 10, 'sanjeev': 15, 'suraj': 32, 'yash': 2}"
   ]
  },
  {
   "cell_type": "code",
   "execution_count": null,
   "id": "a96db4a0",
   "metadata": {},
   "outputs": [],
   "source": [
    "my_dict = {'ravi': 10, 'rajnish': 9, 'sanjeev': 15, 'yash': 2, 'suraj': 32}\n",
    "\n",
    "# Sort by key\n",
    "sorted_dict = dict(sorted(my_dict.items()))\n",
    "print(\"Sorted dictionary by key:\", sorted_dict)\n",
    "\n",
    "# Sort by value\n",
    "sorted_dict = dict(sorted(my_dict.items(), key=lambda item: item[1]))\n",
    "print(\"Sorted dictionary by value:\", sorted_dict)"
   ]
  },
  {
   "cell_type": "markdown",
   "id": "ec63c23a",
   "metadata": {},
   "source": [
    "**41-write python program to Remove keys with Values Greater than K ( Including mixed values )\n",
    "nput : test_dict = {‘Gfg’ : 3, ‘is’ : 7, ‘best’ : 10, ‘for’ : 6, ‘geeks’ : ‘CS’},\n",
    "K = 7 \n",
    "Output : {‘Gfg’ : 3, ‘for’ : 6, ‘geeks’ : ‘CS’}"
   ]
  },
  {
   "cell_type": "code",
   "execution_count": 7,
   "id": "e39c3a40",
   "metadata": {},
   "outputs": [
    {
     "name": "stdout",
     "output_type": "stream",
     "text": [
      "{'Gfg': 3, 'is': 7, 'for': 6}\n"
     ]
    }
   ],
   "source": [
    "test_dict = {'Gfg': 3, 'is': 7, 'best': 10, 'for': 6, 'geeks': 'CS'}\n",
    "K = 7\n",
    "\n",
    "new_dict = {}\n",
    "for key, value in test_dict.items():\n",
    "    if isinstance(value, int) and value <= K:\n",
    "        new_dict[key] = value\n",
    "\n",
    "\n",
    "print(new_dict)"
   ]
  },
  {
   "cell_type": "markdown",
   "id": "f143f0fe",
   "metadata": {},
   "source": [
    "**42-Write a Python program to concatenate the following dictionaries to create a new one\n",
    "\n",
    "Sample Dictionary :\n",
    "dic1={1:10, 2:20}\n",
    "dic2={3:30, 4:40}\n",
    "dic3={5:50,6:60}\n",
    "Expected Result : {1: 10, 2: 20, 3: 30, 4: 40, 5: 50, 6: 60}"
   ]
  },
  {
   "cell_type": "code",
   "execution_count": 10,
   "id": "74ffdfea",
   "metadata": {},
   "outputs": [
    {
     "name": "stdout",
     "output_type": "stream",
     "text": [
      "{1: 10, 2: 20, 3: 30, 4: 40, 5: 50, 6: 60}\n",
      "{1: 10, 2: 20, 3: 30, 4: 40, 5: 50, 6: 60}\n"
     ]
    }
   ],
   "source": [
    "#using update method\n",
    "dic1 = {1: 10, 2: 20}\n",
    "dic2 = {3: 30, 4: 40}\n",
    "dic3 = {5: 50, 6: 60}\n",
    "\n",
    "\n",
    "new_dict = {}\n",
    "new_dict.update(dic1)\n",
    "new_dict.update(dic2)\n",
    "new_dict.update(dic3)\n",
    "\n",
    "\n",
    "print(new_dict)\n",
    "\n",
    "#Unpacking using the ** operator\n",
    "\n",
    "dic1 = {1: 10, 2: 20}\n",
    "dic2 = {3: 30, 4: 40}\n",
    "dic3 = {5: 50, 6: 60}\n",
    "\n",
    "\n",
    "new_dict = {**dic1, **dic2, **dic3}\n",
    "\n",
    "\n",
    "print(new_dict)"
   ]
  },
  {
   "cell_type": "markdown",
   "id": "fb04c93c",
   "metadata": {},
   "source": [
    "**43-Write a Python program to iterate over dictionaries using for loops"
   ]
  },
  {
   "cell_type": "code",
   "execution_count": 15,
   "id": "6aebc470",
   "metadata": {},
   "outputs": [
    {
     "name": "stdout",
     "output_type": "stream",
     "text": [
      "a 1\n",
      "b 2\n",
      "c 3\n",
      "d 3\n",
      "*******************************************\n",
      "1 a\n",
      "2 b\n",
      "3 c\n",
      "3 d\n"
     ]
    }
   ],
   "source": [
    "#loop through key\n",
    "sample_dict ={'a': 1, 'b': 2, 'c': 3 , 'd': 3}\n",
    "\n",
    "\n",
    "for key in sample_dict:\n",
    "    value = sample_dict[key]\n",
    "    print(key, value)\n",
    "print(\"*******************************************\")    \n",
    "#loop through value    \n",
    "sample_dict = {'a': 1, 'b': 2, 'c': 3 , 'd': 3}\n",
    "\n",
    "\n",
    "for value in sample_dict:\n",
    "    key = sample_dict[value]\n",
    "    print(key, value)    "
   ]
  },
  {
   "cell_type": "markdown",
   "id": "5f491a9d",
   "metadata": {},
   "source": [
    "**44- Write a Python script to merge two Python dictionaries"
   ]
  },
  {
   "cell_type": "code",
   "execution_count": 16,
   "id": "b8a14028",
   "metadata": {},
   "outputs": [
    {
     "name": "stdout",
     "output_type": "stream",
     "text": [
      "{1: 10, 2: 20, 3: 30, 4: 40, 5: 50, 6: 60}\n",
      "{1: 10, 2: 20, 3: 30, 4: 40, 5: 50, 6: 60}\n"
     ]
    }
   ],
   "source": [
    "#using update method\n",
    "dic1 = {1: 10, 2: 20}\n",
    "dic2 = {3: 30, 4: 40}\n",
    "dic3 = {5: 50, 6: 60}\n",
    "\n",
    "\n",
    "new_dict = {}\n",
    "new_dict.update(dic1)\n",
    "new_dict.update(dic2)\n",
    "new_dict.update(dic3)\n",
    "\n",
    "\n",
    "print(new_dict)\n",
    "\n",
    "#Unpacking using the ** operator\n",
    "\n",
    "dic1 = {1: 10, 2: 20}\n",
    "dic2 = {3: 30, 4: 40}\n",
    "dic3 = {5: 50, 6: 60}\n",
    "\n",
    "\n",
    "new_dict = {**dic1, **dic2, **dic3}\n",
    "\n",
    "\n",
    "print(new_dict)"
   ]
  },
  {
   "cell_type": "markdown",
   "id": "216fc72d",
   "metadata": {},
   "source": [
    "**45-Write a Python program to get the maximum and minimum values of a dictionary values"
   ]
  },
  {
   "cell_type": "code",
   "execution_count": 22,
   "id": "d6883f5f",
   "metadata": {},
   "outputs": [
    {
     "name": "stdout",
     "output_type": "stream",
     "text": [
      "Max Value is : 20\n",
      "Min Value is : 1\n"
     ]
    }
   ],
   "source": [
    "sample_dict ={'a': 1, 'b': 2, 'c': 3 , 'd': 3 , 'e':20}\n",
    "\n",
    "max_value=max(sample_dict.values())\n",
    "min_value=min(sample_dict.values())\n",
    "print(f\"Max Value is : {max_value}\")\n",
    "print(f\"Min Value is : {min_value}\")"
   ]
  },
  {
   "cell_type": "markdown",
   "id": "b6a53011",
   "metadata": {},
   "source": [
    "**46- Write a Python program to drop empty items from a given dictionary.\n",
    "Original Dictionary:\n",
    "{'c1': 'Red', 'c2': 'Green', 'c3': None}\n",
    "New Dictionary after dropping empty items:\n",
    "{'c1': 'Red', 'c2': 'Green'}"
   ]
  },
  {
   "cell_type": "code",
   "execution_count": 23,
   "id": "b5c6fecf",
   "metadata": {},
   "outputs": [
    {
     "name": "stdout",
     "output_type": "stream",
     "text": [
      "Original Dictionary: {'c1': 'Red', 'c2': 'Green', 'c3': None}\n",
      "New Dictionary after dropping empty items: {'c1': 'Red', 'c2': 'Green'}\n"
     ]
    }
   ],
   "source": [
    "original_dict = {'c1': 'Red', 'c2': 'Green', 'c3': None}\n",
    "\n",
    "new_dict = {key: value for key, value in original_dict.items() if value is not None}\n",
    "\n",
    "print('Original Dictionary:', original_dict)\n",
    "print('New Dictionary after dropping empty items:', new_dict)"
   ]
  },
  {
   "cell_type": "markdown",
   "id": "46d718c7",
   "metadata": {},
   "source": [
    "**47-Write a Python program to create a tuple of numbers and print one item"
   ]
  },
  {
   "cell_type": "code",
   "execution_count": 24,
   "id": "13216ff5",
   "metadata": {},
   "outputs": [
    {
     "name": "stdout",
     "output_type": "stream",
     "text": [
      "First number is : 1\n"
     ]
    }
   ],
   "source": [
    "numbers = (1, 2, 3, 4, 5)\n",
    "\n",
    "print('First number is :', numbers[0])"
   ]
  },
  {
   "cell_type": "markdown",
   "id": "2be5b56b",
   "metadata": {},
   "source": [
    "**48-Write a Python program to unpack a tuple into several variables"
   ]
  },
  {
   "cell_type": "code",
   "execution_count": 26,
   "id": "595f44be",
   "metadata": {},
   "outputs": [
    {
     "name": "stdout",
     "output_type": "stream",
     "text": [
      "a: 10\n",
      "b: 20\n",
      "c: 30\n"
     ]
    }
   ],
   "source": [
    "values = (10, 20, 30)\n",
    "\n",
    "\n",
    "item1, item2, item3 = values\n",
    "\n",
    "\n",
    "print('a:', item1)\n",
    "print('b:', item2)\n",
    "print('c:', item3)\n"
   ]
  },
  {
   "cell_type": "markdown",
   "id": "392388a7",
   "metadata": {},
   "source": [
    "**49-Write a Python program to add an item to a tuple"
   ]
  },
  {
   "cell_type": "code",
   "execution_count": 27,
   "id": "54cc092e",
   "metadata": {},
   "outputs": [
    {
     "name": "stdout",
     "output_type": "stream",
     "text": [
      "Original tuple: (10, 20, 30)\n",
      "New tuple with added item: (10, 20, 30, 40)\n"
     ]
    }
   ],
   "source": [
    "#tuple cannot be edited once created   # (item,) comma refers to tuple of single item\n",
    "\n",
    "original_tuple = (10, 20, 30)\n",
    "new_item = 40\n",
    "new_tuple = original_tuple + (new_item,)\n",
    "print('Original tuple:', original_tuple)\n",
    "print('New tuple with added item:', new_tuple)"
   ]
  },
  {
   "cell_type": "markdown",
   "id": "3e8fd124",
   "metadata": {},
   "source": [
    "**50-Write a Python program to convert a tuple to a string"
   ]
  },
  {
   "cell_type": "code",
   "execution_count": 28,
   "id": "92a71ddc",
   "metadata": {},
   "outputs": [
    {
     "name": "stdout",
     "output_type": "stream",
     "text": [
      "Tuple as string: (1, 2, 3, 4, 5)\n"
     ]
    }
   ],
   "source": [
    "values = (1, 2, 3, 4, 5)\n",
    "values_string = str(values)\n",
    "print('Tuple as string:', values_string)"
   ]
  },
  {
   "cell_type": "markdown",
   "id": "f4f64ef4",
   "metadata": {},
   "source": [
    "**51-Write a Python program to convert a list to a tuple"
   ]
  },
  {
   "cell_type": "code",
   "execution_count": 29,
   "id": "210d56d3",
   "metadata": {},
   "outputs": [
    {
     "name": "stdout",
     "output_type": "stream",
     "text": [
      "List as tuple: (1, 2, 3, 4, 5)\n"
     ]
    }
   ],
   "source": [
    "values = [1, 2, 3, 4, 5]\n",
    "\n",
    "values_tuple = tuple(values)\n",
    "\n",
    "print('List as tuple:', values_tuple)"
   ]
  },
  {
   "cell_type": "markdown",
   "id": "b1e00ef7",
   "metadata": {},
   "source": [
    "**52-Write a Python program to reverse a tuple"
   ]
  },
  {
   "cell_type": "code",
   "execution_count": 30,
   "id": "f45bfdc7",
   "metadata": {},
   "outputs": [
    {
     "name": "stdout",
     "output_type": "stream",
     "text": [
      "Reversed tuple: (5, 4, 3, 2, 1)\n"
     ]
    }
   ],
   "source": [
    "values = (1, 2, 3, 4, 5)\n",
    "\n",
    "reversed_values = values[::-1]\n",
    "\n",
    "print('Reversed tuple:', reversed_values)"
   ]
  },
  {
   "cell_type": "markdown",
   "id": "3cd347d1",
   "metadata": {},
   "source": [
    "**53-Write a Python program to replace the last value of tuples in a list.\n",
    "Sample list: [(10, 20, 40), (40, 50, 60), (70, 80, 90)]\n",
    "Expected Output: [(10, 20, 100), (40, 50, 100), (70, 80, 100)]"
   ]
  },
  {
   "cell_type": "code",
   "execution_count": 35,
   "id": "3c4a2a4c",
   "metadata": {},
   "outputs": [
    {
     "name": "stdout",
     "output_type": "stream",
     "text": [
      "New list of tuples: [(10, 20, 100), (40, 50, 100), (70, 80, 100)]\n"
     ]
    }
   ],
   "source": [
    "tuple_list = [(10, 20, 40), (40, 50, 60), (70, 80, 90)]\n",
    "new_value = 100\n",
    "new_tuple_list = []\n",
    "\n",
    "for tpl in tuple_list:\n",
    "    new_tuple = tpl[:-1] + (new_value,)  #tpl[:-1] tuple contains all elements except last element (-1)\n",
    "    new_tuple_list.append(new_tuple)\n",
    "\n",
    "print('New list of tuples:', new_tuple_list)"
   ]
  },
  {
   "cell_type": "markdown",
   "id": "76bb7b39",
   "metadata": {},
   "source": [
    "**54-Write a Python program to convert a given string list to a tuple\n",
    "Original string: python 3.0\n",
    "<class 'str'>\n",
    "Convert the said string to a tuple:\n",
    "('p', 'y', 't', 'h', 'o', 'n', '3', '.', '0')"
   ]
  },
  {
   "cell_type": "code",
   "execution_count": 36,
   "id": "51951937",
   "metadata": {},
   "outputs": [
    {
     "name": "stdout",
     "output_type": "stream",
     "text": [
      "String list as tuple: ('p', 'y', 't', 'h', 'o', 'n', '3', '.', '0')\n"
     ]
    }
   ],
   "source": [
    "string_list = ['python', '3.0']\n",
    "\n",
    "string_tuple = tuple(''.join(string_list))\n",
    "\n",
    "print('String list as tuple:', string_tuple)"
   ]
  },
  {
   "cell_type": "markdown",
   "id": "5a1d5d97",
   "metadata": {},
   "source": [
    "**55-Write a Python program to calculate the average value of the numbers in a given tuple of tuples"
   ]
  },
  {
   "cell_type": "code",
   "execution_count": 37,
   "id": "834e7992",
   "metadata": {},
   "outputs": [
    {
     "name": "stdout",
     "output_type": "stream",
     "text": [
      "Average value: 5.0\n"
     ]
    }
   ],
   "source": [
    "#get average for each tuple seperately then get average for all tuple\n",
    "tuple_of_tuples = ((1, 2, 3), (4, 5, 6), (7, 8, 9))\n",
    "summution = 0\n",
    "count = 0\n",
    "for tpl in tuple_of_tuples:\n",
    "    \n",
    "    for num in tpl:\n",
    "        \n",
    "        summution += num\n",
    "        count += 1\n",
    "average = summution / count\n",
    "print('Average value:', average)"
   ]
  },
  {
   "cell_type": "markdown",
   "id": "51edab9c",
   "metadata": {},
   "source": [
    "**56-Write a Python program to add member(s) to a set."
   ]
  },
  {
   "cell_type": "code",
   "execution_count": 38,
   "id": "2b65df79",
   "metadata": {},
   "outputs": [
    {
     "name": "stdout",
     "output_type": "stream",
     "text": [
      "Updated set: {1, 2, 3, 4, 5, 6, 7}\n"
     ]
    }
   ],
   "source": [
    "numbers = {1, 2, 3}\n",
    "numbers.add(4)\n",
    "new_numbers = {5, 6, 7}\n",
    "numbers.update(new_numbers)\n",
    "print('Updated set:', numbers)"
   ]
  },
  {
   "cell_type": "markdown",
   "id": "965590cc",
   "metadata": {},
   "source": [
    "**57-Write a Python program to remove an item from a set if it is present in the set."
   ]
  },
  {
   "cell_type": "code",
   "execution_count": 44,
   "id": "866bab28",
   "metadata": {},
   "outputs": [
    {
     "name": "stdout",
     "output_type": "stream",
     "text": [
      "Your set: {1, 2, 3, 4, 5}\n",
      "1 removed from the set.\n",
      "Your Updated set: {2, 3, 4, 5}\n"
     ]
    }
   ],
   "source": [
    "numbers = {1, 2, 3, 4, 5}\n",
    "print('Your set:', numbers)\n",
    "item = 1\n",
    "if item in numbers:    \n",
    "    numbers.remove(item)\n",
    "    print(item, 'removed from the set.')\n",
    "else:\n",
    "    print(item, 'not found in the set.')\n",
    "print('Your Updated set:', numbers)"
   ]
  },
  {
   "cell_type": "markdown",
   "id": "2b7cfed1",
   "metadata": {},
   "source": [
    "**58-Write a Python program to create an intersection,union,difference and symmetric difference of sets"
   ]
  },
  {
   "cell_type": "code",
   "execution_count": 45,
   "id": "7f94b7fe",
   "metadata": {},
   "outputs": [
    {
     "name": "stdout",
     "output_type": "stream",
     "text": [
      "Intersection: {'c', 'e'}\n",
      "Union: {'c', 'd', ' f', 'g', 'e', 'a', 'b'}\n",
      "Difference: {'d', 'a', 'b'}\n",
      "Symmetric difference: {' f', 'd', 'g', 'a', 'b'}\n"
     ]
    }
   ],
   "source": [
    "# Define two sets of numbers\n",
    "set1 = {'a', 'b' ,'c' , 'd' , 'e'}\n",
    "set2 = {'e' , ' f' , 'g' , 'c'}\n",
    "\n",
    "# intersection\n",
    "intersection = set1.intersection(set2)\n",
    "\n",
    "# union\n",
    "union = set1.union(set2)\n",
    "\n",
    "# difference\n",
    "difference = set1.difference(set2)\n",
    "\n",
    "# symmetric difference \n",
    "symmetric_difference = set1.symmetric_difference(set2)\n",
    "\n",
    "print('Intersection:', intersection)\n",
    "print('Union:', union)\n",
    "print('Difference:', difference)\n",
    "print('Symmetric difference:', symmetric_difference)"
   ]
  },
  {
   "cell_type": "markdown",
   "id": "b94931e2",
   "metadata": {},
   "source": [
    "**59-Write a Python program to find the maximum and minimum values in a set"
   ]
  },
  {
   "cell_type": "code",
   "execution_count": 46,
   "id": "203f9600",
   "metadata": {},
   "outputs": [
    {
     "name": "stdout",
     "output_type": "stream",
     "text": [
      "Maximum: 35956\n",
      "Minimum: 1\n"
     ]
    }
   ],
   "source": [
    "numbers = {152,489,1,587,35956}\n",
    "\n",
    "\n",
    "maximum = max(numbers)\n",
    "minimum = min(numbers)\n",
    "\n",
    "\n",
    "print('Maximum:', maximum)\n",
    "print('Minimum:', minimum)"
   ]
  },
  {
   "cell_type": "markdown",
   "id": "255fd554",
   "metadata": {},
   "source": [
    "**60- Write a Python program that finds all pairs of elements in a list whose sum is equal to a given value."
   ]
  },
  {
   "cell_type": "code",
   "execution_count": 47,
   "id": "c2d94e1f",
   "metadata": {},
   "outputs": [
    {
     "name": "stdout",
     "output_type": "stream",
     "text": [
      "Pairs with sum 10 : [(1, 9), (2, 8), (3, 7), (4, 6)]\n"
     ]
    }
   ],
   "source": [
    "numbers = [1, 2, 3, 4, 5, 6, 7, 8, 9]\n",
    "target_sum = 10\n",
    "pairs = []\n",
    "\n",
    "for i in range(len(numbers)):\n",
    "    \n",
    "    for j in range(i + 1, len(numbers)):\n",
    "        \n",
    "        if numbers[i] + numbers[j] == target_sum:\n",
    "            \n",
    "            pairs.append((numbers[i], numbers[j]))\n",
    "\n",
    "\n",
    "print('Pairs with sum', target_sum, ':', pairs)"
   ]
  },
  {
   "cell_type": "code",
   "execution_count": null,
   "id": "badc980b",
   "metadata": {},
   "outputs": [],
   "source": []
  }
 ],
 "metadata": {
  "kernelspec": {
   "display_name": "Python 3 (ipykernel)",
   "language": "python",
   "name": "python3"
  },
  "language_info": {
   "codemirror_mode": {
    "name": "ipython",
    "version": 3
   },
   "file_extension": ".py",
   "mimetype": "text/x-python",
   "name": "python",
   "nbconvert_exporter": "python",
   "pygments_lexer": "ipython3",
   "version": "3.9.13"
  }
 },
 "nbformat": 4,
 "nbformat_minor": 5
}
