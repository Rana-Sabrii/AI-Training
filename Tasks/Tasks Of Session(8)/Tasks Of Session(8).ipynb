{
 "cells": [
  {
   "cell_type": "code",
   "execution_count": 12,
   "id": "ba9f20ca",
   "metadata": {},
   "outputs": [
    {
     "name": "stdout",
     "output_type": "stream",
     "text": [
      "Ahmed Hafez 0102345678 ahmed@gmail.com\n",
      "Ali Osama 0124342342 ali@gmail.com\n",
      "Ahmed Hafez\n",
      "Ali Osama\n",
      "Names: ['Ahmed Hafez', 'Ali Osama']\n",
      "ahmed@gmail.com\n",
      "ali@gmail.com\n",
      "Emails: ['ahmed@gmail.com', 'ali@gmail.com']\n",
      "0102345678\n",
      "0124342342\n",
      "Numbers: ['0102345678', '0124342342']\n"
     ]
    }
   ],
   "source": [
    "import re\n",
    "MyTxt = open(\"text.txt\", \"r\")\n",
    "rd=MyTxt.read()\n",
    "print(rd)\n",
    "\n",
    "\n",
    "Names=[]\n",
    "Numbers=[]\n",
    "EMails=[]\n",
    "\n",
    "\n",
    "#Names\n",
    "pattern=re.compile(r'\\b[A-Z][a-z]+ [A-Z][a-z]+\\b')\n",
    "matches1=pattern.finditer(f)\n",
    "for match1 in matches1:\n",
    "    Names.append(match1.group())\n",
    "    print(match1.group())\n",
    "print('Names:',Names)    \n",
    " \n",
    "    \n",
    "    \n",
    "#Emails    \n",
    "pattern=re.compile(\"[A-z]+@[A-z]+.com\")\n",
    "matches2=pattern.finditer(f)\n",
    "for match2 in matches2:\n",
    "    EMails.append(match2.group())\n",
    "    print(match2.group())\n",
    "print('Emails:',EMails)  \n",
    "\n",
    "\n",
    "#Numbers\n",
    "pattern = re.compile(r\"01\\d\\d\\d\\d\\d\\d\\d\\d\")\n",
    "matches = pattern.finditer(rd)\n",
    "for match in matches:\n",
    "    Numbers.append(match.group())\n",
    "    print(match.group())\n",
    "print('Numbers:',Numbers)   "
   ]
  },
  {
   "cell_type": "markdown",
   "id": "7ab8e8f8",
   "metadata": {},
   "source": [
    "# Advanced (1)"
   ]
  },
  {
   "cell_type": "code",
   "execution_count": 15,
   "id": "dbe3ab8c",
   "metadata": {},
   "outputs": [
    {
     "name": "stdout",
     "output_type": "stream",
     "text": [
      "Ahmed Hafez ahmed@gmail.com 0102345678\n",
      "0124342342 Ali Osama ali@gmail.com\n",
      "Ahmed Hafez\n",
      "Ali Osama\n",
      "Names: ['Ahmed Hafez', 'Ali Osama']\n",
      "ahmed@gmail.com\n",
      "ali@gmail.com\n",
      "Emails: ['ahmed@gmail.com', 'ali@gmail.com']\n",
      "0102345678\n",
      "0124342342\n",
      "Numbers: ['0102345678', '0124342342']\n"
     ]
    }
   ],
   "source": [
    "import re\n",
    "MyTxt = open(\"textadv.txt\", \"r\")\n",
    "rd=MyTxt.read()\n",
    "print(rd)\n",
    "\n",
    "\n",
    "Names=[]\n",
    "Numbers=[]\n",
    "EMails=[]\n",
    "\n",
    "\n",
    "#Names\n",
    "pattern=re.compile(r'\\b[A-Z][a-z]+ [A-Z][a-z]+\\b')\n",
    "matches1=pattern.finditer(f)\n",
    "for match1 in matches1:\n",
    "    Names.append(match1.group())\n",
    "    print(match1.group())\n",
    "print('Names:',Names)    \n",
    " \n",
    "    \n",
    "    \n",
    "#Emails    \n",
    "pattern=re.compile(\"[A-z]+@[A-z]+.com\")\n",
    "matches2=pattern.finditer(f)\n",
    "for match2 in matches2:\n",
    "    EMails.append(match2.group())\n",
    "    print(match2.group())\n",
    "print('Emails:',EMails)  \n",
    "\n",
    "\n",
    "#Numbers\n",
    "pattern = re.compile(r\"01\\d\\d\\d\\d\\d\\d\\d\\d\")\n",
    "matches = pattern.finditer(rd)\n",
    "for match in matches:\n",
    "    Numbers.append(match.group())\n",
    "    print(match.group())\n",
    "print('Numbers:',Numbers)   "
   ]
  },
  {
   "cell_type": "markdown",
   "id": "dbf1cf98",
   "metadata": {},
   "source": [
    "# Advanced(2)"
   ]
  },
  {
   "cell_type": "code",
   "execution_count": 16,
   "id": "d1280e5a",
   "metadata": {},
   "outputs": [
    {
     "name": "stdout",
     "output_type": "stream",
     "text": [
      "Ahmed Hafez,ahmed@gmail.com,0102345678\n",
      " Ali Osama-ali@gmail.com-0124342342\n",
      "Ahmed Hafez\n",
      "Ali Osama\n",
      "Names: ['Ahmed Hafez', 'Ali Osama']\n",
      "ahmed@gmail.com\n",
      "ali@gmail.com\n",
      "Emails: ['ahmed@gmail.com', 'ali@gmail.com']\n",
      "0102345678\n",
      "0124342342\n",
      "Numbers: ['0102345678', '0124342342']\n"
     ]
    }
   ],
   "source": [
    "import re\n",
    "MyTxt = open(\"textadv2.txt\", \"r\")\n",
    "rd=MyTxt.read()\n",
    "print(rd)\n",
    "\n",
    "\n",
    "Names=[]\n",
    "Numbers=[]\n",
    "EMails=[]\n",
    "\n",
    "\n",
    "#Names\n",
    "pattern=re.compile(r'\\b[A-Z][a-z]+ [A-Z][a-z]+\\b')\n",
    "matches1=pattern.finditer(f)\n",
    "for match1 in matches1:\n",
    "    Names.append(match1.group())\n",
    "    print(match1.group())\n",
    "print('Names:',Names)    \n",
    " \n",
    "    \n",
    "    \n",
    "#Emails    \n",
    "pattern=re.compile(\"[A-z]+@[A-z]+.com\")\n",
    "matches2=pattern.finditer(f)\n",
    "for match2 in matches2:\n",
    "    EMails.append(match2.group())\n",
    "    print(match2.group())\n",
    "print('Emails:',EMails)  \n",
    "\n",
    "\n",
    "#Numbers\n",
    "pattern = re.compile(r\"01\\d\\d\\d\\d\\d\\d\\d\\d\")\n",
    "matches = pattern.finditer(rd)\n",
    "for match in matches:\n",
    "    Numbers.append(match.group())\n",
    "    print(match.group())\n",
    "print('Numbers:',Numbers)   "
   ]
  },
  {
   "cell_type": "code",
   "execution_count": null,
   "id": "162295c3",
   "metadata": {},
   "outputs": [],
   "source": []
  }
 ],
 "metadata": {
  "kernelspec": {
   "display_name": "Python 3 (ipykernel)",
   "language": "python",
   "name": "python3"
  },
  "language_info": {
   "codemirror_mode": {
    "name": "ipython",
    "version": 3
   },
   "file_extension": ".py",
   "mimetype": "text/x-python",
   "name": "python",
   "nbconvert_exporter": "python",
   "pygments_lexer": "ipython3",
   "version": "3.9.13"
  }
 },
 "nbformat": 4,
 "nbformat_minor": 5
}
